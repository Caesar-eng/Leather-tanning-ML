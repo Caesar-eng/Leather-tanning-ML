{
 "cells": [
  {
   "cell_type": "code",
   "execution_count": 214,
   "metadata": {},
   "outputs": [],
   "source": [
    "import pandas as pd\n",
    "from sklearn.preprocessing import PolynomialFeatures, StandardScaler\n",
    "from sklearn.model_selection import train_test_split\n",
    "from sklearn.ensemble import RandomForestRegressor\n",
    "from sklearn.metrics import mean_squared_error, r2_score\n"
   ]
  },
  {
   "cell_type": "code",
   "execution_count": 215,
   "metadata": {},
   "outputs": [
    {
     "name": "stdout",
     "output_type": "stream",
     "text": [
      "Dataset Loaded. Shape: (500, 9)\n"
     ]
    }
   ],
   "source": [
    "# Load the dataset\n",
    "file_path = r'C:\\Users\\Fady Kaisar\\Desktop\\New folder (2)\\capstone\\Capstone G12\\ML\\Recipe_and_Properties_of_Leathers\\Data - Copy - Copy.xlsx'\n",
    "data = pd.read_excel(file_path)\n",
    "\n",
    "# Display basic information about the dataset\n",
    "print(\"Dataset Loaded. Shape:\", data.shape)\n"
   ]
  },
  {
   "cell_type": "code",
   "execution_count": 216,
   "metadata": {},
   "outputs": [
    {
     "name": "stdout",
     "output_type": "stream",
     "text": [
      "Filtered Data Shape: (500, 9)\n"
     ]
    }
   ],
   "source": [
    "# Filter data based on conditions\n",
    "filtered_data = data\n",
    "# Save filtered data to a new Excel file\n",
    "filtered_file_path = r'C:\\Users\\Fady Kaisar\\Desktop\\New folder (2)\\capstone\\Capstone G12\\ML\\Recipe_and_Properties_of_Leathers\\Filtered_Data.xlsx'\n",
    "filtered_data.to_excel(filtered_file_path, index=False)\n",
    "\n",
    "# Display filtered data information\n",
    "print(\"Filtered Data Shape:\", filtered_data.shape)\n"
   ]
  },
  {
   "cell_type": "code",
   "execution_count": 217,
   "metadata": {},
   "outputs": [],
   "source": [
    "# Define features and target variable\n",
    "X = filtered_data[['Temperature (°C)', 'Soaking_pH']]  # Features\n",
    "y = filtered_data['Sodium_sulfide']  # Target variable\n"
   ]
  },
  {
   "cell_type": "code",
   "execution_count": 218,
   "metadata": {},
   "outputs": [
    {
     "name": "stdout",
     "output_type": "stream",
     "text": [
      "Transformed Features Shape: (500, 5)\n"
     ]
    }
   ],
   "source": [
    "# Apply PolynomialFeatures and StandardScaler\n",
    "poly = PolynomialFeatures(degree=2, include_bias=False)\n",
    "X_poly = poly.fit_transform(X)\n",
    "\n",
    "scaler = StandardScaler()\n",
    "X_scaled = scaler.fit_transform(X_poly)\n",
    "\n",
    "# Display the transformed features\n",
    "print(\"Transformed Features Shape:\", X_scaled.shape)\n"
   ]
  },
  {
   "cell_type": "code",
   "execution_count": 219,
   "metadata": {},
   "outputs": [
    {
     "name": "stdout",
     "output_type": "stream",
     "text": [
      "Training Set Shape: (400, 5)\n",
      "Test Set Shape: (100, 5)\n"
     ]
    }
   ],
   "source": [
    "# Train-test split\n",
    "X_train, X_test, y_train, y_test = train_test_split(X_scaled, y, test_size=0.2, random_state=42)\n",
    "\n",
    "# Display train-test split information\n",
    "print(\"Training Set Shape:\", X_train.shape)\n",
    "print(\"Test Set Shape:\", X_test.shape)\n"
   ]
  },
  {
   "cell_type": "code",
   "execution_count": 220,
   "metadata": {},
   "outputs": [],
   "source": [
    "# Train Random Forest Regressor model\n",
    "rf_model = RandomForestRegressor(n_estimators=100, random_state=42)\n",
    "rf_model.fit(X_train, y_train)\n",
    "\n",
    "# Make predictions using the trained model\n",
    "y_pred_rf = rf_model.predict(X_test)\n",
    "\n"
   ]
  },
  {
   "cell_type": "code",
   "execution_count": 221,
   "metadata": {},
   "outputs": [
    {
     "name": "stdout",
     "output_type": "stream",
     "text": [
      "Random Forest Model Performance:\n",
      "MSE: 0.05969921608301072\n",
      "R² Score: 0.8441146084247446\n"
     ]
    }
   ],
   "source": [
    "# Evaluate the Random Forest model\n",
    "mse_rf = mean_squared_error(y_test, y_pred_rf)\n",
    "r2_rf = r2_score(y_test, y_pred_rf)\n",
    "\n",
    "print(f\"Random Forest Model Performance:\\nMSE: {mse_rf}\\nR² Score: {r2_rf}\")\n"
   ]
  },
  {
   "cell_type": "code",
   "execution_count": 222,
   "metadata": {},
   "outputs": [
    {
     "name": "stdout",
     "output_type": "stream",
     "text": [
      "Random Forest model predictions saved to C:\\Users\\Fady Kaisar\\Desktop\\New folder (2)\\capstone\\Capstone G12\\ML\\Recipe_and_Properties_of_Leathers\\Random_Forest_Predictions.xlsx\n"
     ]
    }
   ],
   "source": [
    "# Save predictions to Excel\n",
    "predictions_rf = pd.DataFrame({'Actual': y_test.values, 'Predicted': y_pred_rf})\n",
    "predictions_file_path = r'C:\\Users\\Fady Kaisar\\Desktop\\New folder (2)\\capstone\\Capstone G12\\ML\\Recipe_and_Properties_of_Leathers\\Random_Forest_Predictions.xlsx'\n",
    "predictions_rf.to_excel(predictions_file_path, index=False)\n",
    "\n",
    "print(f\"Random Forest model predictions saved to {predictions_file_path}\")\n"
   ]
  }
 ],
 "metadata": {
  "kernelspec": {
   "display_name": "Python 3",
   "language": "python",
   "name": "python3"
  },
  "language_info": {
   "codemirror_mode": {
    "name": "ipython",
    "version": 3
   },
   "file_extension": ".py",
   "mimetype": "text/x-python",
   "name": "python",
   "nbconvert_exporter": "python",
   "pygments_lexer": "ipython3",
   "version": "3.12.4"
  }
 },
 "nbformat": 4,
 "nbformat_minor": 2
}
