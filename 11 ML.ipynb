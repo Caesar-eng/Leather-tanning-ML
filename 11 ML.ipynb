{
 "cells": [
  {
   "cell_type": "markdown",
   "metadata": {},
   "source": [
    "# Read the Data Base"
   ]
  },
  {
   "cell_type": "code",
   "execution_count": 49,
   "metadata": {},
   "outputs": [
    {
     "name": "stdout",
     "output_type": "stream",
     "text": [
      "Dataset Preview:\n",
      "   Soaking_pH  Temperature (°C)  Sodium_sulfide\n",
      "0         7.5              46.0            0.55\n",
      "1         7.5              37.0            0.45\n",
      "2         7.5              15.0            0.50\n",
      "3         7.5              34.0            0.40\n",
      "4         8.0              38.0            0.15\n",
      "\n",
      "Dataset Info:\n",
      "<class 'pandas.core.frame.DataFrame'>\n",
      "RangeIndex: 500 entries, 0 to 499\n",
      "Data columns (total 3 columns):\n",
      " #   Column            Non-Null Count  Dtype  \n",
      "---  ------            --------------  -----  \n",
      " 0   Soaking_pH        500 non-null    float64\n",
      " 1   Temperature (°C)  500 non-null    float64\n",
      " 2   Sodium_sulfide    500 non-null    float64\n",
      "dtypes: float64(3)\n",
      "memory usage: 11.8 KB\n",
      "None\n"
     ]
    }
   ],
   "source": [
    "import pandas as pd\n",
    "\n",
    "# Load the Excel file\n",
    "file_path = r'C:\\Users\\Fady Kaisar\\Desktop\\New folder (2)\\capstone\\Capstone G12\\ML\\Recipe_and_Properties_of_Leathers\\Data - Copy - Copy.xlsx'  # Update with the correct file path\n",
    "data = pd.read_excel(file_path)\n",
    "\n",
    "# Display the first few rows to understand the dataset\n",
    "print(\"Dataset Preview:\")\n",
    "print(data.head())\n",
    "print(\"\\nDataset Info:\")\n",
    "print(data.info())\n"
   ]
  },
  {
   "cell_type": "markdown",
   "metadata": {},
   "source": [
    "# Filtering the Data"
   ]
  },
  {
   "cell_type": "code",
   "execution_count": 50,
   "metadata": {},
   "outputs": [
    {
     "name": "stdout",
     "output_type": "stream",
     "text": [
      "Filtered Data (outliers removed):\n",
      "     Soaking_pH  Temperature (°C)  Sodium_sulfide\n",
      "0      7.500000             46.00        0.550000\n",
      "1      7.500000             37.00        0.450000\n",
      "2      7.500000             15.00        0.500000\n",
      "3      7.500000             34.00        0.400000\n",
      "4      8.000000             38.00        0.150000\n",
      "..          ...               ...             ...\n",
      "495    7.810201              7.89        0.382818\n",
      "496    7.422589             37.11        0.081155\n",
      "497    7.477894             19.87        0.592345\n",
      "498    7.600017             40.06        0.229826\n",
      "499    7.230641             18.05        0.214058\n",
      "\n",
      "[494 rows x 3 columns]\n"
     ]
    },
    {
     "name": "stderr",
     "output_type": "stream",
     "text": [
      "C:\\Users\\Fady Kaisar\\AppData\\Local\\Temp\\ipykernel_1904\\238645349.py:2: FutureWarning: Logical ops (and, or, xor) between Pandas objects and dtype-less sequences (e.g. list, tuple) are deprecated and will raise in a future version. Wrap the object in a Series, Index, or np.array before operating instead.\n",
      "  filtered_data = data[(data['Temperature (°C)'] >= 0 ) & ['Temperature (°C)'] <= 100 ]\n"
     ]
    }
   ],
   "source": [
    "# Filter the data for valid Temperature (°C) and Sodium_sulfide values\n",
    "filtered_data = data[(data['Temperature (°C)'] >= 0 ) & ['Temperature (°C)'] <= 100 ] \n",
    "filtered_data = filtered_data[filtered_data['Sodium_sulfide'] >= 0]\n",
    "\n",
    "# Display the filtered data\n",
    "print(\"Filtered Data (outliers removed):\")\n",
    "print(filtered_data)\n"
   ]
  },
  {
   "cell_type": "markdown",
   "metadata": {},
   "source": [
    "# Describing the Data"
   ]
  },
  {
   "cell_type": "code",
   "execution_count": 51,
   "metadata": {},
   "outputs": [
    {
     "data": {
      "text/html": [
       "<div>\n",
       "<style scoped>\n",
       "    .dataframe tbody tr th:only-of-type {\n",
       "        vertical-align: middle;\n",
       "    }\n",
       "\n",
       "    .dataframe tbody tr th {\n",
       "        vertical-align: top;\n",
       "    }\n",
       "\n",
       "    .dataframe thead th {\n",
       "        text-align: right;\n",
       "    }\n",
       "</style>\n",
       "<table border=\"1\" class=\"dataframe\">\n",
       "  <thead>\n",
       "    <tr style=\"text-align: right;\">\n",
       "      <th></th>\n",
       "      <th>Soaking_pH</th>\n",
       "      <th>Temperature (°C)</th>\n",
       "      <th>Sodium_sulfide</th>\n",
       "    </tr>\n",
       "  </thead>\n",
       "  <tbody>\n",
       "    <tr>\n",
       "      <th>count</th>\n",
       "      <td>500.000000</td>\n",
       "      <td>500.000000</td>\n",
       "      <td>500.000000</td>\n",
       "    </tr>\n",
       "    <tr>\n",
       "      <th>mean</th>\n",
       "      <td>8.462390</td>\n",
       "      <td>30.797340</td>\n",
       "      <td>0.711000</td>\n",
       "    </tr>\n",
       "    <tr>\n",
       "      <th>std</th>\n",
       "      <td>0.821029</td>\n",
       "      <td>13.510474</td>\n",
       "      <td>0.595659</td>\n",
       "    </tr>\n",
       "    <tr>\n",
       "      <th>min</th>\n",
       "      <td>7.166003</td>\n",
       "      <td>3.920000</td>\n",
       "      <td>-0.113061</td>\n",
       "    </tr>\n",
       "    <tr>\n",
       "      <th>25%</th>\n",
       "      <td>7.648775</td>\n",
       "      <td>17.980000</td>\n",
       "      <td>0.253959</td>\n",
       "    </tr>\n",
       "    <tr>\n",
       "      <th>50%</th>\n",
       "      <td>8.500000</td>\n",
       "      <td>35.775000</td>\n",
       "      <td>0.512298</td>\n",
       "    </tr>\n",
       "    <tr>\n",
       "      <th>75%</th>\n",
       "      <td>9.243307</td>\n",
       "      <td>40.952500</td>\n",
       "      <td>0.934965</td>\n",
       "    </tr>\n",
       "    <tr>\n",
       "      <th>max</th>\n",
       "      <td>9.914977</td>\n",
       "      <td>62.120000</td>\n",
       "      <td>2.301203</td>\n",
       "    </tr>\n",
       "  </tbody>\n",
       "</table>\n",
       "</div>"
      ],
      "text/plain": [
       "       Soaking_pH  Temperature (°C)  Sodium_sulfide\n",
       "count  500.000000        500.000000      500.000000\n",
       "mean     8.462390         30.797340        0.711000\n",
       "std      0.821029         13.510474        0.595659\n",
       "min      7.166003          3.920000       -0.113061\n",
       "25%      7.648775         17.980000        0.253959\n",
       "50%      8.500000         35.775000        0.512298\n",
       "75%      9.243307         40.952500        0.934965\n",
       "max      9.914977         62.120000        2.301203"
      ]
     },
     "execution_count": 51,
     "metadata": {},
     "output_type": "execute_result"
    }
   ],
   "source": [
    "data.describe()"
   ]
  },
  {
   "cell_type": "markdown",
   "metadata": {},
   "source": [
    "# Define the Values for the Model, X values and Y value"
   ]
  },
  {
   "cell_type": "code",
   "execution_count": 52,
   "metadata": {},
   "outputs": [
    {
     "name": "stdout",
     "output_type": "stream",
     "text": [
      "Training Data:\n",
      "     Temperature (°C)  Soaking_pH\n",
      "443             21.87    9.015513\n",
      "56               4.00    9.600000\n",
      "354             38.90    7.694716\n",
      "223             43.01    8.595520\n",
      "365             45.91    9.538446\n"
     ]
    }
   ],
   "source": [
    "from sklearn.model_selection import train_test_split\n",
    "\n",
    "# Define features and target\n",
    "X = filtered_data[['Temperature (°C)', 'Soaking_pH']]\n",
    "y = filtered_data['Sodium_sulfide']\n",
    "\n",
    "# Split the data into training and testing sets\n",
    "X_train, X_test, y_train, y_test = train_test_split(X, y, test_size=0.2, random_state=42)\n",
    "\n",
    "print(\"Training Data:\")\n",
    "print(X_train.head())\n"
   ]
  },
  {
   "cell_type": "markdown",
   "metadata": {},
   "source": [
    "# Practising the Model"
   ]
  },
  {
   "cell_type": "code",
   "execution_count": 53,
   "metadata": {},
   "outputs": [
    {
     "name": "stdout",
     "output_type": "stream",
     "text": [
      "Polynomial Model - MSE: 0.008072770299782697, R²: 0.980830183824954\n"
     ]
    }
   ],
   "source": [
    "from sklearn.preprocessing import PolynomialFeatures\n",
    "from sklearn.ensemble import RandomForestRegressor\n",
    "from sklearn.metrics import mean_squared_error, r2_score\n",
    "\n",
    "\n",
    "# Add interaction and higher degree terms\n",
    "poly = PolynomialFeatures(degree=2, interaction_only=True)\n",
    "X_poly = poly.fit_transform(X)\n",
    "\n",
    "# Train a new model with the polynomial features\n",
    "model_poly = RandomForestRegressor(n_estimators=100, random_state=42)\n",
    "model_poly.fit(X_poly, y)\n",
    "\n",
    "# Evaluate the model\n",
    "y_pred_poly = model_poly.predict(poly.transform(X_test))\n",
    "mse_poly = mean_squared_error(y_test, y_pred_poly)\n",
    "r2_poly = r2_score(y_test, y_pred_poly)\n",
    "print(f\"Polynomial Model - MSE: {mse_poly}, R²: {r2_poly}\")"
   ]
  },
  {
   "cell_type": "markdown",
   "metadata": {},
   "source": [
    "# Firebase Integration"
   ]
  },
  {
   "cell_type": "code",
   "execution_count": 54,
   "metadata": {},
   "outputs": [
    {
     "name": "stdout",
     "output_type": "stream",
     "text": [
      "Setting up Firebase real-time listener...\n",
      "Change detected in Firebase: /\n",
      "Error processing entry : 'NoneType' object has no attribute 'get'\n"
     ]
    },
    {
     "name": "stdout",
     "output_type": "stream",
     "text": [
      "Change detected in Firebase: /-OGQzmgVbLS64s_sBfq-\n",
      "Processing entry -OGQzmgVbLS64s_sBfq- with input: [[20.25     6.01709]]\n",
      "Prediction for -OGQzmgVbLS64s_sBfq-: 0.3013218845690634\n"
     ]
    },
    {
     "name": "stderr",
     "output_type": "stream",
     "text": [
      "C:\\Users\\Fady Kaisar\\AppData\\Roaming\\Python\\Python312\\site-packages\\sklearn\\base.py:493: UserWarning: X does not have valid feature names, but PolynomialFeatures was fitted with feature names\n",
      "  warnings.warn(\n"
     ]
    },
    {
     "name": "stdout",
     "output_type": "stream",
     "text": [
      "Updated entry -OGQzmgVbLS64s_sBfq- with prediction.\n",
      "Change detected in Firebase: /-OGQzmgVbLS64s_sBfq-\n",
      "Skipping entry -OGQzmgVbLS64s_sBfq-: Prediction already exists.\n",
      "Change detected in Firebase: /-OGQzpL7wFEwMZEDPgOC\n",
      "Processing entry -OGQzpL7wFEwMZEDPgOC with input: [[20.25     5.93846]]\n",
      "Prediction for -OGQzpL7wFEwMZEDPgOC: 0.3013218845690634\n"
     ]
    },
    {
     "name": "stderr",
     "output_type": "stream",
     "text": [
      "C:\\Users\\Fady Kaisar\\AppData\\Roaming\\Python\\Python312\\site-packages\\sklearn\\base.py:493: UserWarning: X does not have valid feature names, but PolynomialFeatures was fitted with feature names\n",
      "  warnings.warn(\n"
     ]
    },
    {
     "name": "stdout",
     "output_type": "stream",
     "text": [
      "Updated entry -OGQzpL7wFEwMZEDPgOC with prediction.\n",
      "Change detected in Firebase: /-OGQzpL7wFEwMZEDPgOC\n",
      "Skipping entry -OGQzpL7wFEwMZEDPgOC: Prediction already exists.\n",
      "Change detected in Firebase: /-OGQzsBVAvDgNJfym48Z\n",
      "Processing entry -OGQzsBVAvDgNJfym48Z with input: [[20.125    5.85983]]\n",
      "Prediction for -OGQzsBVAvDgNJfym48Z: 0.36181323813322\n",
      "Updated entry -OGQzsBVAvDgNJfym48Z with prediction.\n",
      "Change detected in Firebase: /-OGQzsBVAvDgNJfym48Z\n",
      "Skipping entry -OGQzsBVAvDgNJfym48Z: Prediction already exists.\n"
     ]
    },
    {
     "name": "stderr",
     "output_type": "stream",
     "text": [
      "C:\\Users\\Fady Kaisar\\AppData\\Roaming\\Python\\Python312\\site-packages\\sklearn\\base.py:493: UserWarning: X does not have valid feature names, but PolynomialFeatures was fitted with feature names\n",
      "  warnings.warn(\n"
     ]
    },
    {
     "name": "stdout",
     "output_type": "stream",
     "text": [
      "Change detected in Firebase: /-OGQzutIO1qAH4tRGiSo\n",
      "Processing entry -OGQzutIO1qAH4tRGiSo with input: [[20.1875   4.87521]]\n",
      "Prediction for -OGQzutIO1qAH4tRGiSo: 0.27791787558614856\n"
     ]
    },
    {
     "name": "stderr",
     "output_type": "stream",
     "text": [
      "C:\\Users\\Fady Kaisar\\AppData\\Roaming\\Python\\Python312\\site-packages\\sklearn\\base.py:493: UserWarning: X does not have valid feature names, but PolynomialFeatures was fitted with feature names\n",
      "  warnings.warn(\n"
     ]
    },
    {
     "name": "stdout",
     "output_type": "stream",
     "text": [
      "Updated entry -OGQzutIO1qAH4tRGiSo with prediction.\n",
      "Change detected in Firebase: /-OGQzutIO1qAH4tRGiSo\n",
      "Skipping entry -OGQzutIO1qAH4tRGiSo: Prediction already exists.\n",
      "Change detected in Firebase: /-OGQzxa7lky0dpXg6mMw\n",
      "Processing entry -OGQzxa7lky0dpXg6mMw with input: [[20.125    5.87009]]\n",
      "Prediction for -OGQzxa7lky0dpXg6mMw: 0.36181323813322\n",
      "Updated entry -OGQzxa7lky0dpXg6mMw with prediction.\n",
      "Change detected in Firebase: /-OGQzxa7lky0dpXg6mMw\n",
      "Skipping entry -OGQzxa7lky0dpXg6mMw: Prediction already exists.\n"
     ]
    }
   ],
   "source": [
    "import firebase_admin\n",
    "from firebase_admin import credentials, db\n",
    "import numpy as np\n",
    "\n",
    "# Initialize Firebase\n",
    "if not firebase_admin._apps:\n",
    "    cred = credentials.Certificate(\"credentials.json\")  # Replace with your Firebase Admin SDK JSON\n",
    "    firebase_admin.initialize_app(cred, {\n",
    "        'databaseURL': 'https://ml-soaking-app-default-rtdb.firebaseio.com/'  # Replace with your Firebase Database URL\n",
    "    })\n",
    "\n",
    "# Firebase reference\n",
    "firebase_ref = db.reference('/SensorData')  # Reference to the SensorData path\n",
    "\n",
    "\n",
    "def process_and_update_entry(key, data):\n",
    "    \"\"\"\n",
    "    Process a single Firebase entry and update it with a prediction.\n",
    "    Args:\n",
    "        key (str): The Firebase key for the entry.\n",
    "        data (dict): The data for this entry.\n",
    "    \"\"\"\n",
    "    try:\n",
    "        # Extract Temperature and pH\n",
    "        temperature = data.get(\"Temperature\")\n",
    "        ph_value = data.get(\"pH\")\n",
    "        prediction = data.get(\"Prediction\")  # Check if prediction already exists\n",
    "\n",
    "        # Skip entries with existing predictions\n",
    "        if prediction is not None:\n",
    "            print(f\"Skipping entry {key}: Prediction already exists.\")\n",
    "            return\n",
    "\n",
    "        # Ensure data exists and is valid\n",
    "        if temperature is None or ph_value is None:\n",
    "            print(f\"Skipping entry {key}: Missing Temperature or pH\")\n",
    "            return\n",
    "\n",
    "        # Prepare input for ML model\n",
    "        input_data = np.array([[float(temperature), float(ph_value)]])\n",
    "        print(f\"Processing entry {key} with input: {input_data}\")\n",
    "\n",
    "        # Predict using the ML model\n",
    "        prediction = model_poly.predict(poly.transform(input_data))[0]  # Replace with your model logic\n",
    "        print(f\"Prediction for {key}: {prediction}\")\n",
    "\n",
    "        # Update Firebase with the prediction\n",
    "        firebase_ref.child(key).update({\"Prediction\": prediction})\n",
    "        print(f\"Updated entry {key} with prediction.\")\n",
    "\n",
    "    except Exception as e:\n",
    "        print(f\"Error processing entry {key}: {e}\")\n",
    "\n",
    "\n",
    "def listener(event):\n",
    "    \"\"\"\n",
    "    This function is triggered whenever there is a change in Firebase data.\n",
    "    It processes the new or updated entry and adds a prediction.\n",
    "    \"\"\"\n",
    "    if event.event_type == 'put' or event.event_type == 'patch':  # Trigger on data change\n",
    "        print(f\"Change detected in Firebase: {event.path}\")\n",
    "        # The event.data will contain the updated data\n",
    "        data = event.data\n",
    "        key = event.path.split(\"/\")[-1]  # Get the key of the entry\n",
    "\n",
    "        # Process and update the entry with prediction\n",
    "        process_and_update_entry(key, data)\n",
    "\n",
    "\n",
    "def main():\n",
    "    # Set up Firebase listener for changes\n",
    "    print(\"Setting up Firebase real-time listener...\")\n",
    "    firebase_ref.listen(listener)  # Listen to changes at the /SensorData node\n",
    "\n",
    "\n",
    "if __name__ == \"__main__\":\n",
    "    main()\n"
   ]
  }
 ],
 "metadata": {
  "kernelspec": {
   "display_name": "Python 3",
   "language": "python",
   "name": "python3"
  },
  "language_info": {
   "codemirror_mode": {
    "name": "ipython",
    "version": 3
   },
   "file_extension": ".py",
   "mimetype": "text/x-python",
   "name": "python",
   "nbconvert_exporter": "python",
   "pygments_lexer": "ipython3",
   "version": "3.13.0"
  }
 },
 "nbformat": 4,
 "nbformat_minor": 2
}
