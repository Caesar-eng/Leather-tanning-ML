{
 "cells": [
  {
   "cell_type": "code",
   "execution_count": 9,
   "metadata": {},
   "outputs": [
    {
     "name": "stdout",
     "output_type": "stream",
     "text": [
      "Model Evaluation: MSE = 0.09684818796670734, R² = 0.7700217036699212\n"
     ]
    },
    {
     "ename": "ValueError",
     "evalue": "The default Firebase app already exists. This means you called initialize_app() more than once without providing an app name as the second argument. In most cases you only need to call initialize_app() once. But if you do want to initialize multiple apps, pass a second argument to initialize_app() to give each app a unique name.",
     "output_type": "error",
     "traceback": [
      "\u001b[1;31m---------------------------------------------------------------------------\u001b[0m",
      "\u001b[1;31mValueError\u001b[0m                                Traceback (most recent call last)",
      "Cell \u001b[1;32mIn[9], line 45\u001b[0m\n\u001b[0;32m     42\u001b[0m \u001b[38;5;66;03m# Step 3: Integrate with Firebase\u001b[39;00m\n\u001b[0;32m     43\u001b[0m \u001b[38;5;66;03m# Initialize Firebase Admin SDK\u001b[39;00m\n\u001b[0;32m     44\u001b[0m cred \u001b[38;5;241m=\u001b[39m credentials\u001b[38;5;241m.\u001b[39mCertificate(\u001b[38;5;124m\"\u001b[39m\u001b[38;5;124mcredentials.json\u001b[39m\u001b[38;5;124m\"\u001b[39m)  \u001b[38;5;66;03m# Replace with your Firebase Admin SDK JSON path\u001b[39;00m\n\u001b[1;32m---> 45\u001b[0m \u001b[43mfirebase_admin\u001b[49m\u001b[38;5;241;43m.\u001b[39;49m\u001b[43minitialize_app\u001b[49m\u001b[43m(\u001b[49m\u001b[43mcred\u001b[49m\u001b[43m,\u001b[49m\u001b[43m \u001b[49m\u001b[43m{\u001b[49m\n\u001b[0;32m     46\u001b[0m \u001b[43m    \u001b[49m\u001b[38;5;124;43m'\u001b[39;49m\u001b[38;5;124;43mdatabaseURL\u001b[39;49m\u001b[38;5;124;43m'\u001b[39;49m\u001b[43m:\u001b[49m\u001b[43m \u001b[49m\u001b[38;5;124;43m'\u001b[39;49m\u001b[38;5;124;43mhttps://ml-soaking-app-default-rtdb.firebaseio.com/\u001b[39;49m\u001b[38;5;124;43m'\u001b[39;49m\u001b[43m  \u001b[49m\u001b[38;5;66;43;03m# Replace with your Firebase Database URL\u001b[39;49;00m\n\u001b[0;32m     47\u001b[0m \u001b[43m}\u001b[49m\u001b[43m)\u001b[49m\n\u001b[0;32m     48\u001b[0m firebase_ref \u001b[38;5;241m=\u001b[39m db\u001b[38;5;241m.\u001b[39mreference(\u001b[38;5;124m'\u001b[39m\u001b[38;5;124m/\u001b[39m\u001b[38;5;124m'\u001b[39m)\n\u001b[0;32m     50\u001b[0m \u001b[38;5;28mprint\u001b[39m(\u001b[38;5;124m\"\u001b[39m\u001b[38;5;124mModel trained and Firebase initialized. Ready for real-time predictions.\u001b[39m\u001b[38;5;124m\"\u001b[39m)\n",
      "File \u001b[1;32mc:\\Python312\\Lib\\site-packages\\firebase_admin\\__init__.py:74\u001b[0m, in \u001b[0;36minitialize_app\u001b[1;34m(credential, options, name)\u001b[0m\n\u001b[0;32m     71\u001b[0m         \u001b[38;5;28;01mreturn\u001b[39;00m app\n\u001b[0;32m     73\u001b[0m \u001b[38;5;28;01mif\u001b[39;00m name \u001b[38;5;241m==\u001b[39m _DEFAULT_APP_NAME:\n\u001b[1;32m---> 74\u001b[0m     \u001b[38;5;28;01mraise\u001b[39;00m \u001b[38;5;167;01mValueError\u001b[39;00m((\n\u001b[0;32m     75\u001b[0m         \u001b[38;5;124m'\u001b[39m\u001b[38;5;124mThe default Firebase app already exists. This means you called \u001b[39m\u001b[38;5;124m'\u001b[39m\n\u001b[0;32m     76\u001b[0m         \u001b[38;5;124m'\u001b[39m\u001b[38;5;124minitialize_app() more than once without providing an app name as \u001b[39m\u001b[38;5;124m'\u001b[39m\n\u001b[0;32m     77\u001b[0m         \u001b[38;5;124m'\u001b[39m\u001b[38;5;124mthe second argument. In most cases you only need to call \u001b[39m\u001b[38;5;124m'\u001b[39m\n\u001b[0;32m     78\u001b[0m         \u001b[38;5;124m'\u001b[39m\u001b[38;5;124minitialize_app() once. But if you do want to initialize multiple \u001b[39m\u001b[38;5;124m'\u001b[39m\n\u001b[0;32m     79\u001b[0m         \u001b[38;5;124m'\u001b[39m\u001b[38;5;124mapps, pass a second argument to initialize_app() to give each app \u001b[39m\u001b[38;5;124m'\u001b[39m\n\u001b[0;32m     80\u001b[0m         \u001b[38;5;124m'\u001b[39m\u001b[38;5;124ma unique name.\u001b[39m\u001b[38;5;124m'\u001b[39m))\n\u001b[0;32m     82\u001b[0m \u001b[38;5;28;01mraise\u001b[39;00m \u001b[38;5;167;01mValueError\u001b[39;00m((\n\u001b[0;32m     83\u001b[0m     \u001b[38;5;124m'\u001b[39m\u001b[38;5;124mFirebase app named \u001b[39m\u001b[38;5;124m\"\u001b[39m\u001b[38;5;132;01m{0}\u001b[39;00m\u001b[38;5;124m\"\u001b[39m\u001b[38;5;124m already exists. This means you called \u001b[39m\u001b[38;5;124m'\u001b[39m\n\u001b[0;32m     84\u001b[0m     \u001b[38;5;124m'\u001b[39m\u001b[38;5;124minitialize_app() more than once with the same app name as the \u001b[39m\u001b[38;5;124m'\u001b[39m\n\u001b[0;32m     85\u001b[0m     \u001b[38;5;124m'\u001b[39m\u001b[38;5;124msecond argument. Make sure you provide a unique name every time \u001b[39m\u001b[38;5;124m'\u001b[39m\n\u001b[0;32m     86\u001b[0m     \u001b[38;5;124m'\u001b[39m\u001b[38;5;124myou call initialize_app().\u001b[39m\u001b[38;5;124m'\u001b[39m)\u001b[38;5;241m.\u001b[39mformat(name))\n",
      "\u001b[1;31mValueError\u001b[0m: The default Firebase app already exists. This means you called initialize_app() more than once without providing an app name as the second argument. In most cases you only need to call initialize_app() once. But if you do want to initialize multiple apps, pass a second argument to initialize_app() to give each app a unique name."
     ]
    }
   ],
   "source": [
    "import pandas as pd\n",
    "import numpy as np\n",
    "from sklearn.model_selection import train_test_split\n",
    "from sklearn.preprocessing import PolynomialFeatures\n",
    "from sklearn.ensemble import RandomForestRegressor\n",
    "from sklearn.metrics import mean_squared_error, r2_score\n",
    "import firebase_admin\n",
    "from firebase_admin import credentials, db\n",
    "import time\n",
    "\n",
    "# Step 1: Load and preprocess the Excel file\n",
    "file_path = r'C:\\Users\\Fady Kaisar\\Desktop\\New folder (2)\\capstone\\Capstone G12\\ML\\Recipe_and_Properties_of_Leathers\\Data - Copy - Copy.xlsx'  # Replace with your file path\n",
    "data = pd.read_excel(file_path)\n",
    "\n",
    "# Filter and clean the data\n",
    "filtered_data = data[(data['Temperature (°C)'] >= 0) & (data['Temperature (°C)'] <= 100)]\n",
    "filtered_data = filtered_data[filtered_data['Sodium_sulfide'] >= 0]\n",
    "\n",
    "# Define features and target\n",
    "X = filtered_data[['Temperature (°C)', 'Soaking_pH']]\n",
    "y = filtered_data['Sodium_sulfide']\n",
    "\n",
    "# Split the data into training and testing sets\n",
    "X_train, X_test, y_train, y_test = train_test_split(X, y, test_size=0.2, random_state=42)\n",
    "\n",
    "# Step 2: Train the machine learning model\n",
    "# Add polynomial features\n",
    "poly = PolynomialFeatures(degree=2, interaction_only=True)\n",
    "X_train_poly = poly.fit_transform(X_train)\n",
    "X_test_poly = poly.transform(X_test)\n",
    "\n",
    "# Train the Random Forest model\n",
    "model = RandomForestRegressor(n_estimators=100, random_state=42)\n",
    "model.fit(X_train_poly, y_train)\n",
    "\n",
    "# Evaluate the model\n",
    "y_pred = model.predict(X_test_poly)\n",
    "mse = mean_squared_error(y_test, y_pred)\n",
    "r2 = r2_score(y_test, y_pred)\n",
    "print(f\"Model Evaluation: MSE = {mse}, R² = {r2}\")\n",
    "\n",
    "# Step 3: Integrate with Firebase\n",
    "# Initialize Firebase Admin SDK\n",
    "cred = credentials.Certificate(\"credentials.json\")  # Replace with your Firebase Admin SDK JSON path\n",
    "firebase_admin.initialize_app(cred, {\n",
    "    'databaseURL': 'https://ml-soaking-app-default-rtdb.firebaseio.com/'  # Replace with your Firebase Database URL\n",
    "})\n",
    "firebase_ref = db.reference('/')\n",
    "\n",
    "print(\"Model trained and Firebase initialized. Ready for real-time predictions.\")\n",
    "\n",
    "# Step 4: Real-time predictions from Firebase\n",
    "while True:\n",
    "    try:\n",
    "        # Fetch the latest data from Firebase\n",
    "        temperature = firebase_ref.child(\"Temperature\").get()\n",
    "        ph_value = firebase_ref.child(\"pH\").get()\n",
    "\n",
    "        if temperature is None or ph_value is None:\n",
    "            print(\"Waiting for valid data in Firebase...\")\n",
    "            time.sleep(5)\n",
    "            continue\n",
    "\n",
    "        print(f\"Fetched Data - Temperature: {temperature}, pH: {ph_value}\")\n",
    "\n",
    "        # Prepare data for prediction\n",
    "        input_data = np.array([[temperature, ph_value]])\n",
    "        input_data_poly = poly.transform(input_data)\n",
    "\n",
    "        # Make prediction\n",
    "        sodium_sulfide_pred = model.predict(input_data_poly)[0]\n",
    "        print(f\"Predicted Sodium Sulfide: {sodium_sulfide_pred}\")\n",
    "\n",
    "        # Upload prediction back to Firebase\n",
    "        firebase_ref.child(\"Prediction\").set({\n",
    "            \"Sodium_sulfide\": sodium_sulfide_pred\n",
    "        })\n",
    "        print(\"Prediction uploaded to Firebase.\")\n",
    "\n",
    "    except Exception as e:\n",
    "        print(f\"Error: {e}\")\n",
    "\n",
    "    # Wait for 10 seconds before fetching new data\n",
    "    time.sleep(10)\n"
   ]
  }
 ],
 "metadata": {
  "kernelspec": {
   "display_name": "Python 3",
   "language": "python",
   "name": "python3"
  },
  "language_info": {
   "codemirror_mode": {
    "name": "ipython",
    "version": 3
   },
   "file_extension": ".py",
   "mimetype": "text/x-python",
   "name": "python",
   "nbconvert_exporter": "python",
   "pygments_lexer": "ipython3",
   "version": "3.12.4"
  }
 },
 "nbformat": 4,
 "nbformat_minor": 2
}
