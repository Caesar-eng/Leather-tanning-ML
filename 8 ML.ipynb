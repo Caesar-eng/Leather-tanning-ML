{
 "cells": [
  {
   "cell_type": "code",
   "execution_count": 161,
   "metadata": {},
   "outputs": [
    {
     "name": "stdout",
     "output_type": "stream",
     "text": [
      "Dataset Loaded. Shape: (500, 9)\n"
     ]
    }
   ],
   "source": [
    "import pandas as pd\n",
    "from sklearn.preprocessing import PolynomialFeatures, StandardScaler\n",
    "from sklearn.model_selection import train_test_split\n",
    "from sklearn.linear_model import LinearRegression\n",
    "from sklearn.metrics import mean_squared_error, r2_score\n",
    "\n",
    "# Load the dataset\n",
    "file_path = r'C:\\Users\\Fady Kaisar\\Desktop\\New folder (2)\\capstone\\Capstone G12\\ML\\Recipe_and_Properties_of_Leathers\\Data - Copy - Copy.xlsx'  # Update path if needed\n",
    "data = pd.read_excel(file_path)\n",
    "\n",
    "# Display dataset information\n",
    "print(\"Dataset Loaded. Shape:\", data.shape)\n"
   ]
  },
  {
   "cell_type": "code",
   "execution_count": null,
   "metadata": {},
   "outputs": [
    {
     "name": "stdout",
     "output_type": "stream",
     "text": [
      "Filtered data saved to C:\\Users\\Fady Kaisar\\Desktop\\New folder (2)\\capstone\\Capstone G12\\ML\\Recipe_and_Properties_of_Leathers\\Filtered_Data.xlsx\n",
      "Filtered Data Shape: (42, 9)\n",
      "Filtered data saved to C:\\Users\\Fady Kaisar\\Desktop\\New folder (2)\\capstone\\Capstone G12\\ML\\Recipe_and_Properties_of_Leathers\\Filtered_Data.xlsx\n",
      "Filtered Data Shape: (42, 9)\n"
     ]
    }
   ],
   "source": [
    "# Filter for Temperature (°C) between 20 and 40\n",
    "filtered_data = data[(data['Temperature (°C)'] >= 20) & (data['Temperature (°C)'] <= 40)]\n",
    "\n",
    "# Further filter for Degree of Tannage > 81.0000\n",
    "filtered_data = filtered_data[filtered_data['Degree of tannage%'] > 81.000]\n",
    "\n",
    "# Save filtered data\n",
    "filtered_file_path = r'C:\\Users\\Fady Kaisar\\Desktop\\New folder (2)\\capstone\\Capstone G12\\ML\\Recipe_and_Properties_of_Leathers\\Filtered_Data.xlsx'\n",
    "filtered_data.to_excel(filtered_file_path, index=False)\n",
    "print(f\"Filtered data saved to {filtered_file_path}\")\n",
    "\n",
    "# Display filtered data information\n",
    "print(\"Filtered Data Shape:\", filtered_data.shape)\n",
    "\n"
   ]
  },
  {
   "cell_type": "code",
   "execution_count": 163,
   "metadata": {},
   "outputs": [],
   "source": [
    "# Define features (X) and target variable (y)\n",
    "X = filtered_data[['Temperature (°C)', 'Soaking_pH']]  # Features\n",
    "y = filtered_data['Sodium_sulfide']  # Target variable\n"
   ]
  },
  {
   "cell_type": "code",
   "execution_count": null,
   "metadata": {},
   "outputs": [],
   "source": [
    "# Create polynomial features\n",
    "poly = PolynomialFeatures(degree=2, include_bias=False)\n",
    "X_poly = poly.fit_transform(X)\n",
    "\n",
    "# Scale the polynomial features\n",
    "scaler = StandardScaler()\n",
    "X_scaled = scaler.fit_transform(X_poly)\n",
    "\n",
    "# Split into training and testing sets\n",
    "X_train, X_test, y_train, y_test = train_test_split(X_scaled, y, test_size=0.2, random_state=42)\n",
    "\n",
    "# Display the shapes of training and testing datasets\n",
    "print(\"X_train Shape:\", X_train.shape)\n",
    "print(\"X_test Shape:\", X_test.shape)\n",
    "print(\"y_train Shape:\", y_train.shape)\n",
    "print(\"y_test Shape:\", y_test.shape)\n"
   ]
  },
  {
   "cell_type": "code",
   "execution_count": 165,
   "metadata": {},
   "outputs": [
    {
     "name": "stdout",
     "output_type": "stream",
     "text": [
      "Polynomial Model Performance:\n",
      "Mean Squared Error (MSE): 0.08164529251158752\n",
      "R² Score: 0.8548655928787207\n"
     ]
    }
   ],
   "source": [
    "# Train a linear regression model on the polynomial features\n",
    "model = LinearRegression()\n",
    "model.fit(X_train, y_train)\n",
    "\n",
    "# Make predictions\n",
    "y_pred = model.predict(X_test)\n",
    "\n",
    "# Evaluate the model\n",
    "mse = mean_squared_error(y_test, y_pred)\n",
    "r2 = r2_score(y_test, y_pred)\n",
    "\n",
    "print(f\"Polynomial Model Performance:\\nMean Squared Error (MSE): {mse}\\nR² Score: {r2}\")\n"
   ]
  },
  {
   "cell_type": "code",
   "execution_count": null,
   "metadata": {},
   "outputs": [
    {
     "name": "stdout",
     "output_type": "stream",
     "text": [
      "Polynomial model predictions saved to C:\\Users\\Fady Kaisar\\Desktop\\New folder (2)\\capstone\\Capstone G12\\ML\\Recipe_and_Properties_of_Leathers\\Polynomial_Predictions.xlsx\n"
     ]
    }
   ],
   "source": [
    "# Save predictions to an Excel file\n",
    "predictions = pd.DataFrame({'Actual': y_test.values, 'Predicted': y_pred})\n",
    "predictions_file_path = r'C:\\Users\\Fady Kaisar\\Desktop\\New folder (2)\\capstone\\Capstone G12\\ML\\Recipe_and_Properties_of_Leathers\\Polynomial_Predictions.xlsx'\n",
    "predictions.to_excel(predictions_file_path, index=False)\n",
    "print(f\"Polynomial model predictions saved to {predictions_file_path}\")\n"
   ]
  },
  {
   "cell_type": "code",
   "execution_count": 167,
   "metadata": {},
   "outputs": [
    {
     "name": "stdout",
     "output_type": "stream",
     "text": [
      "Random Forest Model Performance:\n",
      "MSE: 0.033669519040095824\n",
      "R² Score: 0.9401483473986035\n"
     ]
    }
   ],
   "source": [
    "from sklearn.ensemble import RandomForestRegressor\n",
    "\n",
    "rf_model = RandomForestRegressor(n_estimators=100, random_state=42)\n",
    "rf_model.fit(X_train, y_train)\n",
    "y_pred_rf = rf_model.predict(X_test)\n",
    "\n",
    "mse_rf = mean_squared_error(y_test, y_pred_rf)\n",
    "r2_rf = r2_score(y_test, y_pred_rf)\n",
    "\n",
    "print(f\"Random Forest Model Performance:\\nMSE: {mse_rf}\\nR² Score: {r2_rf}\")\n"
   ]
  }
 ],
 "metadata": {
  "kernelspec": {
   "display_name": "Python 3",
   "language": "python",
   "name": "python3"
  },
  "language_info": {
   "codemirror_mode": {
    "name": "ipython",
    "version": 3
   },
   "file_extension": ".py",
   "mimetype": "text/x-python",
   "name": "python",
   "nbconvert_exporter": "python",
   "pygments_lexer": "ipython3",
   "version": "3.12.4"
  }
 },
 "nbformat": 4,
 "nbformat_minor": 2
}
