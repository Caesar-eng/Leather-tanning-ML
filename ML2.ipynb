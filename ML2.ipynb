{
 "cells": [
  {
   "cell_type": "code",
   "execution_count": 1,
   "metadata": {},
   "outputs": [],
   "source": [
    "# Import necessary libraries\n",
    "import pandas as pd\n",
    "from sklearn.model_selection import train_test_split\n",
    "from sklearn.ensemble import RandomForestRegressor\n",
    "from sklearn.metrics import mean_squared_error, r2_score\n"
   ]
  },
  {
   "cell_type": "code",
   "execution_count": 2,
   "metadata": {},
   "outputs": [
    {
     "name": "stdout",
     "output_type": "stream",
     "text": [
      "   Soaking_pH  Shrinkge_Temperature_Ts       time  Sodium_sulfide  \\\n",
      "0         7.5                30.476814  155.37037            0.55   \n",
      "1         7.5                29.822136  155.37037            0.45   \n",
      "2         7.5                30.588589  155.37037            0.50   \n",
      "3         7.5                31.444630  155.37037            0.40   \n",
      "4         8.0                29.668347  155.37037            0.15   \n",
      "\n",
      "   Tensile_strength (kg/cm2)  \n",
      "0                      238.0  \n",
      "1                      278.0  \n",
      "2                      224.0  \n",
      "3                      231.0  \n",
      "4                      298.0  \n"
     ]
    }
   ],
   "source": [
    "# Load the dataset\n",
    "data_path = r'C:\\Users\\Fady Kaisar\\Desktop\\New folder (2)\\capstone\\Capstone G12\\ML\\Recipe_and_Properties_of_Leathers\\Data.xlsx'  # Update with your actual path\n",
    "data = pd.read_excel(data_path)\n",
    "\n",
    "# Display the first few rows of the dataset to verify\n",
    "print(data.head())\n"
   ]
  },
  {
   "cell_type": "code",
   "execution_count": 3,
   "metadata": {},
   "outputs": [
    {
     "data": {
      "text/html": [
       "<div>\n",
       "<style scoped>\n",
       "    .dataframe tbody tr th:only-of-type {\n",
       "        vertical-align: middle;\n",
       "    }\n",
       "\n",
       "    .dataframe tbody tr th {\n",
       "        vertical-align: top;\n",
       "    }\n",
       "\n",
       "    .dataframe thead th {\n",
       "        text-align: right;\n",
       "    }\n",
       "</style>\n",
       "<table border=\"1\" class=\"dataframe\">\n",
       "  <thead>\n",
       "    <tr style=\"text-align: right;\">\n",
       "      <th></th>\n",
       "      <th>Soaking_pH</th>\n",
       "      <th>Shrinkge_Temperature_Ts</th>\n",
       "      <th>time</th>\n",
       "      <th>Sodium_sulfide</th>\n",
       "      <th>Tensile_strength (kg/cm2)</th>\n",
       "    </tr>\n",
       "  </thead>\n",
       "  <tbody>\n",
       "    <tr>\n",
       "      <th>count</th>\n",
       "      <td>500.000000</td>\n",
       "      <td>500.000000</td>\n",
       "      <td>500.000000</td>\n",
       "      <td>500.000000</td>\n",
       "      <td>500.000000</td>\n",
       "    </tr>\n",
       "    <tr>\n",
       "      <th>mean</th>\n",
       "      <td>9.468073</td>\n",
       "      <td>33.012370</td>\n",
       "      <td>155.712596</td>\n",
       "      <td>0.711000</td>\n",
       "      <td>264.192786</td>\n",
       "    </tr>\n",
       "    <tr>\n",
       "      <th>std</th>\n",
       "      <td>9.264178</td>\n",
       "      <td>4.169530</td>\n",
       "      <td>49.463032</td>\n",
       "      <td>0.595659</td>\n",
       "      <td>51.705320</td>\n",
       "    </tr>\n",
       "    <tr>\n",
       "      <th>min</th>\n",
       "      <td>7.166003</td>\n",
       "      <td>26.442755</td>\n",
       "      <td>79.738011</td>\n",
       "      <td>-0.113061</td>\n",
       "      <td>126.253354</td>\n",
       "    </tr>\n",
       "    <tr>\n",
       "      <th>25%</th>\n",
       "      <td>7.648775</td>\n",
       "      <td>29.520099</td>\n",
       "      <td>155.241829</td>\n",
       "      <td>0.253959</td>\n",
       "      <td>230.952980</td>\n",
       "    </tr>\n",
       "    <tr>\n",
       "      <th>50%</th>\n",
       "      <td>8.500000</td>\n",
       "      <td>31.430084</td>\n",
       "      <td>155.370370</td>\n",
       "      <td>0.512298</td>\n",
       "      <td>269.994446</td>\n",
       "    </tr>\n",
       "    <tr>\n",
       "      <th>75%</th>\n",
       "      <td>9.243307</td>\n",
       "      <td>36.369286</td>\n",
       "      <td>155.481200</td>\n",
       "      <td>0.934965</td>\n",
       "      <td>297.997495</td>\n",
       "    </tr>\n",
       "    <tr>\n",
       "      <th>max</th>\n",
       "      <td>93.224717</td>\n",
       "      <td>40.000000</td>\n",
       "      <td>530.100511</td>\n",
       "      <td>2.301203</td>\n",
       "      <td>364.696172</td>\n",
       "    </tr>\n",
       "  </tbody>\n",
       "</table>\n",
       "</div>"
      ],
      "text/plain": [
       "       Soaking_pH  Shrinkge_Temperature_Ts        time  Sodium_sulfide  \\\n",
       "count  500.000000               500.000000  500.000000      500.000000   \n",
       "mean     9.468073                33.012370  155.712596        0.711000   \n",
       "std      9.264178                 4.169530   49.463032        0.595659   \n",
       "min      7.166003                26.442755   79.738011       -0.113061   \n",
       "25%      7.648775                29.520099  155.241829        0.253959   \n",
       "50%      8.500000                31.430084  155.370370        0.512298   \n",
       "75%      9.243307                36.369286  155.481200        0.934965   \n",
       "max     93.224717                40.000000  530.100511        2.301203   \n",
       "\n",
       "       Tensile_strength (kg/cm2)  \n",
       "count                 500.000000  \n",
       "mean                  264.192786  \n",
       "std                    51.705320  \n",
       "min                   126.253354  \n",
       "25%                   230.952980  \n",
       "50%                   269.994446  \n",
       "75%                   297.997495  \n",
       "max                   364.696172  "
      ]
     },
     "execution_count": 3,
     "metadata": {},
     "output_type": "execute_result"
    }
   ],
   "source": [
    "data.describe()"
   ]
  },
  {
   "cell_type": "code",
   "execution_count": 4,
   "metadata": {},
   "outputs": [
    {
     "name": "stdout",
     "output_type": "stream",
     "text": [
      "X_train shape: (400, 2)\n",
      "X_test shape: (100, 2)\n",
      "y_train shape: (400,)\n",
      "y_test shape: (100,)\n"
     ]
    }
   ],
   "source": [
    "# Define features (X) and target (y)\n",
    "X = data[['Soaking_pH', 'Shrinkge_Temperature_Ts']]  # Update column names if necessary\n",
    "y = data['Sodium_sulfide']  # Update target column name if necessary\n",
    "\n",
    "# Split the data into training and testing sets\n",
    "X_train, X_test, y_train, y_test = train_test_split(X, y, test_size=0.2, random_state=42)\n",
    "\n",
    "# Display shapes of the splits\n",
    "print(f\"X_train shape: {X_train.shape}\")\n",
    "print(f\"X_test shape: {X_test.shape}\")\n",
    "print(f\"y_train shape: {y_train.shape}\")\n",
    "print(f\"y_test shape: {y_test.shape}\")\n"
   ]
  },
  {
   "cell_type": "code",
   "execution_count": 5,
   "metadata": {},
   "outputs": [
    {
     "name": "stdout",
     "output_type": "stream",
     "text": [
      "Mean Squared Error: 0.3094281536000537\n",
      "R-squared Score: 0.19202743263358335\n"
     ]
    }
   ],
   "source": [
    "# Initialize and train the Random Forest Regressor\n",
    "rf_model = RandomForestRegressor(n_estimators=100, random_state=42)\n",
    "rf_model.fit(X_train, y_train)\n",
    "\n",
    "# Make predictions\n",
    "y_pred = rf_model.predict(X_test)\n",
    "\n",
    "# Evaluate the model\n",
    "mse = mean_squared_error(y_test, y_pred)\n",
    "r2 = r2_score(y_test, y_pred)\n",
    "\n",
    "print(f\"Mean Squared Error: {mse}\")\n",
    "print(f\"R-squared Score: {r2}\")\n"
   ]
  },
  {
   "cell_type": "code",
   "execution_count": 6,
   "metadata": {},
   "outputs": [
    {
     "name": "stdout",
     "output_type": "stream",
     "text": [
      "Predicted Sodium Sulfide: 0.5840217210996691\n"
     ]
    },
    {
     "name": "stderr",
     "output_type": "stream",
     "text": [
      "C:\\Users\\Fady Kaisar\\AppData\\Roaming\\Python\\Python312\\site-packages\\sklearn\\base.py:493: UserWarning: X does not have valid feature names, but RandomForestRegressor was fitted with feature names\n",
      "  warnings.warn(\n"
     ]
    }
   ],
   "source": [
    "# Predict the amount of CH3COOH for new data\n",
    "new_data = [[7.5, 150]]  # Replace with the values of Soaking_pH and Shrinkge_Temperature_Ts\n",
    "predicted_value = rf_model.predict(new_data)\n",
    "\n",
    "print(f\"Predicted Sodium Sulfide: {predicted_value[0]}\")\n"
   ]
  },
  {
   "cell_type": "code",
   "execution_count": 7,
   "metadata": {},
   "outputs": [
    {
     "name": "stdout",
     "output_type": "stream",
     "text": [
      "Polynomial Features MSE: 0.3078165495478365\n",
      "Polynomial Features R²: 0.1962356207008239\n"
     ]
    }
   ],
   "source": [
    "from sklearn.preprocessing import PolynomialFeatures\n",
    "\n",
    "# Generate polynomial features\n",
    "poly = PolynomialFeatures(degree=2, include_bias=False)\n",
    "X_poly = poly.fit_transform(X)\n",
    "\n",
    "# Split the polynomial data\n",
    "X_train_poly, X_test_poly, y_train, y_test = train_test_split(X_poly, y, test_size=0.2, random_state=42)\n",
    "\n",
    "# Train and evaluate the Random Forest model on polynomial features\n",
    "rf_model_poly = RandomForestRegressor(n_estimators=100, random_state=42)\n",
    "rf_model_poly.fit(X_train_poly, y_train)\n",
    "\n",
    "y_pred_poly = rf_model_poly.predict(X_test_poly)\n",
    "\n",
    "mse_poly = mean_squared_error(y_test, y_pred_poly)\n",
    "r2_poly = r2_score(y_test, y_pred_poly)\n",
    "\n",
    "print(f\"Polynomial Features MSE: {mse_poly}\")\n",
    "print(f\"Polynomial Features R²: {r2_poly}\")\n"
   ]
  }
 ],
 "metadata": {
  "kernelspec": {
   "display_name": "Python 3",
   "language": "python",
   "name": "python3"
  },
  "language_info": {
   "codemirror_mode": {
    "name": "ipython",
    "version": 3
   },
   "file_extension": ".py",
   "mimetype": "text/x-python",
   "name": "python",
   "nbconvert_exporter": "python",
   "pygments_lexer": "ipython3",
   "version": "3.12.4"
  }
 },
 "nbformat": 4,
 "nbformat_minor": 2
}
