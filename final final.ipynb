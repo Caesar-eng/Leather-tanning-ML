{
 "cells": [
  {
   "cell_type": "code",
   "execution_count": 1,
   "metadata": {},
   "outputs": [
    {
     "name": "stdout",
     "output_type": "stream",
     "text": [
      "<class 'pandas.core.frame.DataFrame'>\n",
      "RangeIndex: 500 entries, 0 to 499\n",
      "Data columns (total 9 columns):\n",
      " #   Column                     Non-Null Count  Dtype  \n",
      "---  ------                     --------------  -----  \n",
      " 0   Soaking_pH                 500 non-null    float64\n",
      " 1   Temperature (°C)           500 non-null    float64\n",
      " 2   time                       500 non-null    float64\n",
      " 3   Sodium_sulfide             500 non-null    float64\n",
      " 4   Tensile_strength (kg/cm2)  500 non-null    float64\n",
      " 5   Degree of tannage%         500 non-null    float64\n",
      " 6   Unnamed: 6                 0 non-null      float64\n",
      " 7   Unnamed: 7                 0 non-null      float64\n",
      " 8   temp                       500 non-null    float64\n",
      "dtypes: float64(9)\n",
      "memory usage: 35.3 KB\n"
     ]
    }
   ],
   "source": [
    "import pandas as pd\n",
    "\n",
    "# Load the dataset\n",
    "file_path = r'C:\\Users\\Fady Kaisar\\Desktop\\New folder (2)\\capstone\\Capstone G12\\ML\\Recipe_and_Properties_of_Leathers\\Data - Copy - Copy.xlsx'  # path to your file\n",
    "data = pd.read_excel(file_path)\n",
    "\n",
    "# Show the first few rows of the dataset\n",
    "data.head()\n",
    "\n",
    "# Show summary statistics and data types\n",
    "data.describe()\n",
    "data.info()\n"
   ]
  },
  {
   "cell_type": "code",
   "execution_count": 2,
   "metadata": {},
   "outputs": [
    {
     "data": {
      "image/png": "[encoded data removed]",
      "text/plain": [
       "<Figure size 640x480 with 1 Axes>"
      ]
     },
     "metadata": {},
     "output_type": "display_data"
    }
   ],
   "source": [
    "# Handle missing values (example: filling with the mean for numerical columns)\n",
    "data = data.fillna(data.mean())\n",
    "\n",
    "# Alternatively, you could remove rows with missing values:\n",
    "# data = data.dropna()\n",
    "\n",
    "# Check for outliers in Temperature (°C) and Sodium_sulfide\n",
    "import matplotlib.pyplot as plt\n",
    "import seaborn as sns\n",
    "\n",
    "# Boxplot to check for outliers\n",
    "sns.boxplot(data['Temperature (°C)'])\n",
    "sns.boxplot(data['Sodium_sulfide'])\n",
    "plt.show()\n"
   ]
  },
  {
   "cell_type": "code",
   "execution_count": 3,
   "metadata": {},
   "outputs": [
    {
     "data": {
      "text/plain": [
       "array([[1.000e+00, 4.600e+01, 7.500e+00, 2.116e+03, 3.450e+02, 5.625e+01],\n",
       "       [1.000e+00, 3.700e+01, 7.500e+00, 1.369e+03, 2.775e+02, 5.625e+01],\n",
       "       [1.000e+00, 1.500e+01, 7.500e+00, 2.250e+02, 1.125e+02, 5.625e+01],\n",
       "       [1.000e+00, 3.400e+01, 7.500e+00, 1.156e+03, 2.550e+02, 5.625e+01],\n",
       "       [1.000e+00, 3.800e+01, 8.000e+00, 1.444e+03, 3.040e+02, 6.400e+01]])"
      ]
     },
     "execution_count": 3,
     "metadata": {},
     "output_type": "execute_result"
    }
   ],
   "source": [
    "from sklearn.preprocessing import PolynomialFeatures\n",
    "\n",
    "# Let's create polynomial features for Temperature and Soaking_pH\n",
    "poly = PolynomialFeatures(degree=2)\n",
    "X_poly = poly.fit_transform(data[['Temperature (°C)', 'Soaking_pH']])\n",
    "\n",
    "# Check the new feature matrix\n",
    "X_poly[:5]\n"
   ]
  },
  {
   "cell_type": "code",
   "execution_count": 4,
   "metadata": {},
   "outputs": [
    {
     "name": "stdout",
     "output_type": "stream",
     "text": [
      "Linear Regression - MSE: 0.3811216809106977, R²: 0.004822736969053776\n"
     ]
    }
   ],
   "source": [
    "from sklearn.linear_model import LinearRegression\n",
    "from sklearn.model_selection import train_test_split\n",
    "from sklearn.metrics import mean_squared_error, r2_score\n",
    "\n",
    "# Define features and target\n",
    "X = data[['Temperature (°C)', 'Soaking_pH']]\n",
    "y = data['Sodium_sulfide']\n",
    "\n",
    "# Split data into training and testing sets\n",
    "X_train, X_test, y_train, y_test = train_test_split(X, y, test_size=0.2, random_state=42)\n",
    "\n",
    "# Train a linear regression model\n",
    "model = LinearRegression()\n",
    "model.fit(X_train, y_train)\n",
    "\n",
    "# Make predictions and evaluate the model\n",
    "y_pred = model.predict(X_test)\n",
    "\n",
    "# Calculate performance metrics\n",
    "mse = mean_squared_error(y_test, y_pred)\n",
    "r2 = r2_score(y_test, y_pred)\n",
    "\n",
    "print(f\"Linear Regression - MSE: {mse}, R²: {r2}\")\n"
   ]
  },
  {
   "cell_type": "code",
   "execution_count": 5,
   "metadata": {},
   "outputs": [
    {
     "name": "stdout",
     "output_type": "stream",
     "text": [
      "Random Forest - MSE: 0.0675572140869158, R²: 0.8235959621809974\n"
     ]
    }
   ],
   "source": [
    "from sklearn.ensemble import RandomForestRegressor\n",
    "\n",
    "# Train a Random Forest model\n",
    "rf_model = RandomForestRegressor(n_estimators=100, random_state=42)\n",
    "rf_model.fit(X_train, y_train)\n",
    "\n",
    "# Make predictions and evaluate\n",
    "y_pred_rf = rf_model.predict(X_test)\n",
    "\n",
    "# Calculate performance metrics\n",
    "mse_rf = mean_squared_error(y_test, y_pred_rf)\n",
    "r2_rf = r2_score(y_test, y_pred_rf)\n",
    "\n",
    "print(f\"Random Forest - MSE: {mse_rf}, R²: {r2_rf}\")\n"
   ]
  }
 ],
 "metadata": {
  "kernelspec": {
   "display_name": "Python 3",
   "language": "python",
   "name": "python3"
  },
  "language_info": {
   "codemirror_mode": {
    "name": "ipython",
    "version": 3
   },
   "file_extension": ".py",
   "mimetype": "text/x-python",
   "name": "python",
   "nbconvert_exporter": "python",
   "pygments_lexer": "ipython3",
   "version": "3.12.4"
  }
 },
 "nbformat": 4,
 "nbformat_minor": 2
}
