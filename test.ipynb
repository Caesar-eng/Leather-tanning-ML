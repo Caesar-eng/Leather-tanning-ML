{
 "cells": [
  {
   "cell_type": "code",
   "execution_count": 15,
   "metadata": {},
   "outputs": [],
   "source": [
    "import firebase_admin\n",
    "from firebase_admin import db, credentials"
   ]
  },
  {
   "cell_type": "code",
   "execution_count": 16,
   "metadata": {},
   "outputs": [],
   "source": [
    "\n",
    "if not firebase_admin._apps:\n",
    "    cred = credentials.Certificate(\"credentials.json\")\n",
    "    firebase_admin.initialize_app(cred, {\n",
    "        'databaseURL': 'https://ml-soaking-app-default-rtdb.firebaseio.com'\n",
    "    })\n"
   ]
  },
  {
   "cell_type": "code",
   "execution_count": 17,
   "metadata": {},
   "outputs": [],
   "source": [
    "ref=db.reference(\"user_profiles\")  #ref the root node"
   ]
  },
  {
   "cell_type": "code",
   "execution_count": 18,
   "metadata": {},
   "outputs": [
    {
     "ename": "UnauthenticatedError",
     "evalue": "Unauthorized request.",
     "output_type": "error",
     "traceback": [
      "\u001b[1;31m---------------------------------------------------------------------------\u001b[0m",
      "\u001b[1;31mHTTPError\u001b[0m                                 Traceback (most recent call last)",
      "File \u001b[1;32mc:\\Python312\\Lib\\site-packages\\firebase_admin\\db.py:929\u001b[0m, in \u001b[0;36m_Client.request\u001b[1;34m(self, method, url, **kwargs)\u001b[0m\n\u001b[0;32m    928\u001b[0m \u001b[38;5;28;01mtry\u001b[39;00m:\n\u001b[1;32m--> 929\u001b[0m     \u001b[38;5;28;01mreturn\u001b[39;00m \u001b[38;5;28;43msuper\u001b[39;49m\u001b[43m(\u001b[49m\u001b[43m_Client\u001b[49m\u001b[43m,\u001b[49m\u001b[43m \u001b[49m\u001b[38;5;28;43mself\u001b[39;49m\u001b[43m)\u001b[49m\u001b[38;5;241;43m.\u001b[39;49m\u001b[43mrequest\u001b[49m\u001b[43m(\u001b[49m\u001b[43mmethod\u001b[49m\u001b[43m,\u001b[49m\u001b[43m \u001b[49m\u001b[43murl\u001b[49m\u001b[43m,\u001b[49m\u001b[43m \u001b[49m\u001b[38;5;241;43m*\u001b[39;49m\u001b[38;5;241;43m*\u001b[39;49m\u001b[43mkwargs\u001b[49m\u001b[43m)\u001b[49m\n\u001b[0;32m    930\u001b[0m \u001b[38;5;28;01mexcept\u001b[39;00m requests\u001b[38;5;241m.\u001b[39mexceptions\u001b[38;5;241m.\u001b[39mRequestException \u001b[38;5;28;01mas\u001b[39;00m error:\n",
      "File \u001b[1;32mc:\\Python312\\Lib\\site-packages\\firebase_admin\\_http_client.py:124\u001b[0m, in \u001b[0;36mHttpClient.request\u001b[1;34m(self, method, url, **kwargs)\u001b[0m\n\u001b[0;32m    123\u001b[0m resp \u001b[38;5;241m=\u001b[39m \u001b[38;5;28mself\u001b[39m\u001b[38;5;241m.\u001b[39m_session\u001b[38;5;241m.\u001b[39mrequest(method, \u001b[38;5;28mself\u001b[39m\u001b[38;5;241m.\u001b[39mbase_url \u001b[38;5;241m+\u001b[39m url, \u001b[38;5;241m*\u001b[39m\u001b[38;5;241m*\u001b[39mkwargs)\n\u001b[1;32m--> 124\u001b[0m \u001b[43mresp\u001b[49m\u001b[38;5;241;43m.\u001b[39;49m\u001b[43mraise_for_status\u001b[49m\u001b[43m(\u001b[49m\u001b[43m)\u001b[49m\n\u001b[0;32m    125\u001b[0m \u001b[38;5;28;01mreturn\u001b[39;00m resp\n",
      "File \u001b[1;32m~\\AppData\\Roaming\\Python\\Python312\\site-packages\\requests\\models.py:1024\u001b[0m, in \u001b[0;36mResponse.raise_for_status\u001b[1;34m(self)\u001b[0m\n\u001b[0;32m   1023\u001b[0m \u001b[38;5;28;01mif\u001b[39;00m http_error_msg:\n\u001b[1;32m-> 1024\u001b[0m     \u001b[38;5;28;01mraise\u001b[39;00m HTTPError(http_error_msg, response\u001b[38;5;241m=\u001b[39m\u001b[38;5;28mself\u001b[39m)\n",
      "\u001b[1;31mHTTPError\u001b[0m: 401 Client Error: Unauthorized for url: https://capstone-35b91-default-rtdb.firebaseio.com/user_profiles.json",
      "\nDuring handling of the above exception, another exception occurred:\n",
      "\u001b[1;31mUnauthenticatedError\u001b[0m                      Traceback (most recent call last)",
      "Cell \u001b[1;32mIn[18], line 1\u001b[0m\n\u001b[1;32m----> 1\u001b[0m \u001b[43mref\u001b[49m\u001b[38;5;241;43m.\u001b[39;49m\u001b[43mget\u001b[49m\u001b[43m(\u001b[49m\u001b[43m)\u001b[49m  \u001b[38;5;66;03m# get data form the node \u001b[39;00m\n",
      "File \u001b[1;32mc:\\Python312\\Lib\\site-packages\\firebase_admin\\db.py:221\u001b[0m, in \u001b[0;36mReference.get\u001b[1;34m(self, etag, shallow)\u001b[0m\n\u001b[0;32m    218\u001b[0m     \u001b[38;5;28;01mreturn\u001b[39;00m data, headers\u001b[38;5;241m.\u001b[39mget(\u001b[38;5;124m'\u001b[39m\u001b[38;5;124mETag\u001b[39m\u001b[38;5;124m'\u001b[39m)\n\u001b[0;32m    220\u001b[0m params \u001b[38;5;241m=\u001b[39m \u001b[38;5;124m'\u001b[39m\u001b[38;5;124mshallow=true\u001b[39m\u001b[38;5;124m'\u001b[39m \u001b[38;5;28;01mif\u001b[39;00m shallow \u001b[38;5;28;01melse\u001b[39;00m \u001b[38;5;28;01mNone\u001b[39;00m\n\u001b[1;32m--> 221\u001b[0m \u001b[38;5;28;01mreturn\u001b[39;00m \u001b[38;5;28;43mself\u001b[39;49m\u001b[38;5;241;43m.\u001b[39;49m\u001b[43m_client\u001b[49m\u001b[38;5;241;43m.\u001b[39;49m\u001b[43mbody\u001b[49m\u001b[43m(\u001b[49m\u001b[38;5;124;43m'\u001b[39;49m\u001b[38;5;124;43mget\u001b[39;49m\u001b[38;5;124;43m'\u001b[39;49m\u001b[43m,\u001b[49m\u001b[43m \u001b[49m\u001b[38;5;28;43mself\u001b[39;49m\u001b[38;5;241;43m.\u001b[39;49m\u001b[43m_add_suffix\u001b[49m\u001b[43m(\u001b[49m\u001b[43m)\u001b[49m\u001b[43m,\u001b[49m\u001b[43m \u001b[49m\u001b[43mparams\u001b[49m\u001b[38;5;241;43m=\u001b[39;49m\u001b[43mparams\u001b[49m\u001b[43m)\u001b[49m\n",
      "File \u001b[1;32mc:\\Python312\\Lib\\site-packages\\firebase_admin\\_http_client.py:136\u001b[0m, in \u001b[0;36mHttpClient.body\u001b[1;34m(self, method, url, **kwargs)\u001b[0m\n\u001b[0;32m    135\u001b[0m \u001b[38;5;28;01mdef\u001b[39;00m \u001b[38;5;21mbody\u001b[39m(\u001b[38;5;28mself\u001b[39m, method, url, \u001b[38;5;241m*\u001b[39m\u001b[38;5;241m*\u001b[39mkwargs):\n\u001b[1;32m--> 136\u001b[0m     resp \u001b[38;5;241m=\u001b[39m \u001b[38;5;28;43mself\u001b[39;49m\u001b[38;5;241;43m.\u001b[39;49m\u001b[43mrequest\u001b[49m\u001b[43m(\u001b[49m\u001b[43mmethod\u001b[49m\u001b[43m,\u001b[49m\u001b[43m \u001b[49m\u001b[43murl\u001b[49m\u001b[43m,\u001b[49m\u001b[43m \u001b[49m\u001b[38;5;241;43m*\u001b[39;49m\u001b[38;5;241;43m*\u001b[39;49m\u001b[43mkwargs\u001b[49m\u001b[43m)\u001b[49m\n\u001b[0;32m    137\u001b[0m     \u001b[38;5;28;01mreturn\u001b[39;00m \u001b[38;5;28mself\u001b[39m\u001b[38;5;241m.\u001b[39mparse_body(resp)\n",
      "File \u001b[1;32mc:\\Python312\\Lib\\site-packages\\firebase_admin\\db.py:931\u001b[0m, in \u001b[0;36m_Client.request\u001b[1;34m(self, method, url, **kwargs)\u001b[0m\n\u001b[0;32m    929\u001b[0m     \u001b[38;5;28;01mreturn\u001b[39;00m \u001b[38;5;28msuper\u001b[39m(_Client, \u001b[38;5;28mself\u001b[39m)\u001b[38;5;241m.\u001b[39mrequest(method, url, \u001b[38;5;241m*\u001b[39m\u001b[38;5;241m*\u001b[39mkwargs)\n\u001b[0;32m    930\u001b[0m \u001b[38;5;28;01mexcept\u001b[39;00m requests\u001b[38;5;241m.\u001b[39mexceptions\u001b[38;5;241m.\u001b[39mRequestException \u001b[38;5;28;01mas\u001b[39;00m error:\n\u001b[1;32m--> 931\u001b[0m     \u001b[38;5;28;01mraise\u001b[39;00m _Client\u001b[38;5;241m.\u001b[39mhandle_rtdb_error(error)\n",
      "\u001b[1;31mUnauthenticatedError\u001b[0m: Unauthorized request."
     ]
    }
   ],
   "source": [
    "ref.get()  # get data form the node "
   ]
  },
  {
   "cell_type": "code",
   "execution_count": 38,
   "metadata": {},
   "outputs": [
    {
     "data": {
      "text/plain": [
       "{'ageRange': 'Select Age Range',\n",
       " 'createdAt': 1733354768794,\n",
       " 'name': '',\n",
       " 'preferredBedtime': {'hour': 1, 'minute': 25},\n",
       " 'sensorSettings': {'gsrSensitivity': 0.6,\n",
       "  'gyroscopeSensitivity': '(22,50,88)',\n",
       "  'heartbeatSensitivity': 0.5},\n",
       " 'userId': 'anonymous'}"
      ]
     },
     "execution_count": 38,
     "metadata": {},
     "output_type": "execute_result"
    }
   ],
   "source": [
    "db.reference(\"/age\").set(10)\n",
    "db.reference(\"/name\").set(\"ABDELRHMAN\")\n",
    "\n",
    "ref.get()"
   ]
  },
  {
   "cell_type": "code",
   "execution_count": 9,
   "metadata": {},
   "outputs": [
    {
     "data": {
      "text/plain": [
       "{'Ahmed': {'1st night': {'GSR_1st': 2,\n",
       "   'GSR_2nd': 5,\n",
       "   'Gyroscope_X': 50,\n",
       "   'Gyroscope_y': 80,\n",
       "   'Gyroscope_z': 70,\n",
       "   'HRB': 80,\n",
       "   'age': 39,\n",
       "   'weight': 50},\n",
       "  '2nd night': {'GSR_1st': 2,\n",
       "   'GSR_2nd': 5,\n",
       "   'Gyroscope_X': 110,\n",
       "   'Gyroscope_y': 50,\n",
       "   'Gyroscope_z': 85,\n",
       "   'HRB': 80,\n",
       "   'age': 39,\n",
       "   'weight': 50},\n",
       "  '3rd night': {'GSR_1st': 2,\n",
       "   'GSR_2nd': 5,\n",
       "   'Gyroscope_X': 50,\n",
       "   'Gyroscope_y': 80,\n",
       "   'Gyroscope_z': 70,\n",
       "   'HRB': 80,\n",
       "   'age': 39,\n",
       "   'weight': 50}},\n",
       " 'Learinign': True,\n",
       " 'address': {'line1': '100 Mountain View'},\n",
       " 'age': 100,\n",
       " 'name': 'ABDELRHMAN',\n",
       " 'user_profiles': {'ageRange': 'Select Age Range',\n",
       "  'createdAt': 1733354768794,\n",
       "  'name': '',\n",
       "  'preferredBedtime': {'hour': 1, 'minute': 25},\n",
       "  'sensorSettings': {'gsrSensitivity': 0.6,\n",
       "   'gyroscopeSensitivity': '(22,50,88)',\n",
       "   'heartbeatSensitivity': 0.5},\n",
       "  'userId': 'anonymous'}}"
      ]
     },
     "execution_count": 9,
     "metadata": {},
     "output_type": "execute_result"
    }
   ],
   "source": [
    "# TO add a new node \n",
    "\n",
    "db.reference(\"/\").update({\"Learinign\":True})\n",
    "db.reference(\"/\").get()"
   ]
  },
  {
   "cell_type": "code",
   "execution_count": 10,
   "metadata": {},
   "outputs": [
    {
     "data": {
      "text/plain": [
       "{'Ahmed': {'1st night': {'GSR_1st': 2,\n",
       "   'GSR_2nd': 5,\n",
       "   'Gyroscope_X': 50,\n",
       "   'Gyroscope_y': 80,\n",
       "   'Gyroscope_z': 70,\n",
       "   'HRB': 80,\n",
       "   'age': 39,\n",
       "   'weight': 50},\n",
       "  '2nd night': {'GSR_1st': 2,\n",
       "   'GSR_2nd': 5,\n",
       "   'Gyroscope_X': 110,\n",
       "   'Gyroscope_y': 50,\n",
       "   'Gyroscope_z': 85,\n",
       "   'HRB': 80,\n",
       "   'age': 39,\n",
       "   'weight': 50},\n",
       "  '3rd night': {'GSR_1st': 2,\n",
       "   'GSR_2nd': 5,\n",
       "   'Gyroscope_X': 50,\n",
       "   'Gyroscope_y': 80,\n",
       "   'Gyroscope_z': 70,\n",
       "   'HRB': 80,\n",
       "   'age': 39,\n",
       "   'weight': 50}},\n",
       " 'Learinign': True,\n",
       " 'address': {'line1': '100 Mountain View'},\n",
       " 'age': 100,\n",
       " 'language': ['python', 'c++'],\n",
       " 'name': 'ABDELRHMAN',\n",
       " 'user_profiles': {'ageRange': 'Select Age Range',\n",
       "  'createdAt': 1733354768794,\n",
       "  'name': '',\n",
       "  'preferredBedtime': {'hour': 1, 'minute': 25},\n",
       "  'sensorSettings': {'gsrSensitivity': 0.6,\n",
       "   'gyroscopeSensitivity': '(22,50,88)',\n",
       "   'heartbeatSensitivity': 0.5},\n",
       "  'userId': 'anonymous'}}"
      ]
     },
     "execution_count": 10,
     "metadata": {},
     "output_type": "execute_result"
    }
   ],
   "source": [
    "db.reference(\"/\").update({\"language\":[\"python\",\"c++\"]})\n",
    "db.reference(\"/\").get()"
   ]
  },
  {
   "cell_type": "code",
   "execution_count": 11,
   "metadata": {},
   "outputs": [
    {
     "data": {
      "text/plain": [
       "{'Ahmed': {'1st night': {'GSR_1st': 2,\n",
       "   'GSR_2nd': 5,\n",
       "   'Gyroscope_X': 50,\n",
       "   'Gyroscope_y': 80,\n",
       "   'Gyroscope_z': 70,\n",
       "   'HRB': 80,\n",
       "   'age': 39,\n",
       "   'weight': 50},\n",
       "  '2nd night': {'GSR_1st': 2,\n",
       "   'GSR_2nd': 5,\n",
       "   'Gyroscope_X': 110,\n",
       "   'Gyroscope_y': 50,\n",
       "   'Gyroscope_z': 85,\n",
       "   'HRB': 80,\n",
       "   'age': 39,\n",
       "   'weight': 50},\n",
       "  '3rd night': {'GSR_1st': 2,\n",
       "   'GSR_2nd': 5,\n",
       "   'Gyroscope_X': 50,\n",
       "   'Gyroscope_y': 80,\n",
       "   'Gyroscope_z': 70,\n",
       "   'HRB': 80,\n",
       "   'age': 39,\n",
       "   'weight': 50}},\n",
       " 'Learinign': True,\n",
       " 'address': {'line1': '100 Mountain View'},\n",
       " 'age': 100,\n",
       " 'language': {'0': 'python', '1': 'c++', '-OG5kWr7VMnUAZ_ItKWj': 'c#'},\n",
       " 'name': 'ABDELRHMAN',\n",
       " 'user_profiles': {'ageRange': 'Select Age Range',\n",
       "  'createdAt': 1733354768794,\n",
       "  'name': '',\n",
       "  'preferredBedtime': {'hour': 1, 'minute': 25},\n",
       "  'sensorSettings': {'gsrSensitivity': 0.6,\n",
       "   'gyroscopeSensitivity': '(22,50,88)',\n",
       "   'heartbeatSensitivity': 0.5},\n",
       "  'userId': 'anonymous'}}"
      ]
     },
     "execution_count": 11,
     "metadata": {},
     "output_type": "execute_result"
    }
   ],
   "source": [
    "db.reference(\"/language\").push(\"c#\")\n",
    "db.reference(\"/\").get()  # note i runned it twice so C# is Existing twice "
   ]
  },
  {
   "cell_type": "code",
   "execution_count": 12,
   "metadata": {},
   "outputs": [
    {
     "data": {
      "text/plain": [
       "{'Ahmed': {'1st night': {'GSR_1st': 2,\n",
       "   'GSR_2nd': 5,\n",
       "   'Gyroscope_X': 50,\n",
       "   'Gyroscope_y': 80,\n",
       "   'Gyroscope_z': 70,\n",
       "   'HRB': 80,\n",
       "   'age': 39,\n",
       "   'weight': 50},\n",
       "  '2nd night': {'GSR_1st': 2,\n",
       "   'GSR_2nd': 5,\n",
       "   'Gyroscope_X': 110,\n",
       "   'Gyroscope_y': 50,\n",
       "   'Gyroscope_z': 85,\n",
       "   'HRB': 80,\n",
       "   'age': 39,\n",
       "   'weight': 50},\n",
       "  '3rd night': {'GSR_1st': 2,\n",
       "   'GSR_2nd': 5,\n",
       "   'Gyroscope_X': 50,\n",
       "   'Gyroscope_y': 80,\n",
       "   'Gyroscope_z': 70,\n",
       "   'HRB': 80,\n",
       "   'age': 39,\n",
       "   'weight': 50}},\n",
       " 'COUNTER': 1,\n",
       " 'Learinign': True,\n",
       " 'address': {'line1': '100 Mountain View'},\n",
       " 'age': 100,\n",
       " 'language': {'0': 'python', '1': 'c++', '-OG5kWr7VMnUAZ_ItKWj': 'c#'},\n",
       " 'name': 'ABDELRHMAN',\n",
       " 'user_profiles': {'ageRange': 'Select Age Range',\n",
       "  'createdAt': 1733354768794,\n",
       "  'name': '',\n",
       "  'preferredBedtime': {'hour': 1, 'minute': 25},\n",
       "  'sensorSettings': {'gsrSensitivity': 0.6,\n",
       "   'gyroscopeSensitivity': '(22,50,88)',\n",
       "   'heartbeatSensitivity': 0.5},\n",
       "  'userId': 'anonymous'}}"
      ]
     },
     "execution_count": 12,
     "metadata": {},
     "output_type": "execute_result"
    }
   ],
   "source": [
    "db.reference(\"/\").update({\"COUNTER\":1})\n",
    "db.reference(\"/\").get()"
   ]
  },
  {
   "cell_type": "code",
   "execution_count": 13,
   "metadata": {},
   "outputs": [],
   "source": [
    "def inc(currentVal):\n",
    "    currentVal+=1\n",
    "    db.reference(\"/\").update({\"COUNTER\":currentVal})"
   ]
  },
  {
   "cell_type": "code",
   "execution_count": 39,
   "metadata": {},
   "outputs": [
    {
     "data": {
      "text/plain": [
       "{'protein intake': '56 g/day',\n",
       " 'vitamin d': '600 iu/day',\n",
       " 'vitamin b6': '1.3 mg/day',\n",
       " 'vitamin b12': '2.4 mcg/day',\n",
       " 'magnesium': '400 mg/day',\n",
       " 'melatonin-boosting foods': '1 serving of cherries or bananas before bedtime',\n",
       " 'caffeine intake': 'avoid after 2 pm',\n",
       " 'water intake': '3.7 liters/day',\n",
       " 'exercise': '30 minutes of moderate activity 5 days a week',\n",
       " 'stress management': '10 minutes of mindfulness or meditation daily',\n",
       " 'iron intake': '8 mg/day',\n",
       " 'omega-3 fatty acids': '1 g/day'}"
      ]
     },
     "execution_count": 39,
     "metadata": {},
     "output_type": "execute_result"
    }
   ],
   "source": [
    "dictionary = dict(zip(keys, values))\n",
    "dictionary"
   ]
  },
  {
   "cell_type": "code",
   "execution_count": 42,
   "metadata": {},
   "outputs": [
    {
     "data": {
      "text/plain": [
       "{'ageRange': 'Select Age Range',\n",
       " 'createdAt': 1733354768794,\n",
       " 'name': '',\n",
       " 'preferredBedtime': {'hour': 1, 'minute': 25},\n",
       " 'recommendations': {'caffeine intake': 'avoid after 2 pm',\n",
       "  'exercise': '30 minutes of moderate activity 5 days a week',\n",
       "  'iron intake': '8 mg/day',\n",
       "  'magnesium': '400 mg/day',\n",
       "  'melatonin-boosting foods': '1 serving of cherries or bananas before bedtime',\n",
       "  'omega-3 fatty acids': '1 g/day',\n",
       "  'protein intake': '56 g/day',\n",
       "  'stress management': '10 minutes of mindfulness or meditation daily',\n",
       "  'vitamin b12': '2.4 mcg/day',\n",
       "  'vitamin b6': '1.3 mg/day',\n",
       "  'vitamin d': '600 iu/day',\n",
       "  'water intake': '3.7 liters/day'},\n",
       " 'sensorSettings': {'gsrSensitivity': 0.6,\n",
       "  'gyroscopeSensitivity': '(22,50,88)',\n",
       "  'heartbeatSensitivity': 0.5},\n",
       " 'userId': 'anonymous'}"
      ]
     },
     "execution_count": 42,
     "metadata": {},
     "output_type": "execute_result"
    }
   ],
   "source": [
    "db.reference(\"/user_profiles/recommendations\").set(dictionary)\n",
    "\n",
    "ref.get()"
   ]
  },
  {
   "cell_type": "code",
   "execution_count": 41,
   "metadata": {},
   "outputs": [
    {
     "data": {
      "text/plain": [
       "{'ageRange': 'Select Age Range',\n",
       " 'createdAt': 1733354768794,\n",
       " 'name': '',\n",
       " 'preferredBedtime': {'hour': 1, 'minute': 25},\n",
       " 'sensorSettings': {'gsrSensitivity': 0.6,\n",
       "  'gyroscopeSensitivity': '(22,50,88)',\n",
       "  'heartbeatSensitivity': 0.5},\n",
       " 'userId': 'anonymous'}"
      ]
     },
     "execution_count": 41,
     "metadata": {},
     "output_type": "execute_result"
    }
   ],
   "source": [
    "ref.get()"
   ]
  },
  {
   "cell_type": "code",
   "execution_count": null,
   "metadata": {},
   "outputs": [],
   "source": []
  }
 ],
 "metadata": {
  "kernelspec": {
   "display_name": "Python 3",
   "language": "python",
   "name": "python3"
  },
  "language_info": {
   "codemirror_mode": {
    "name": "ipython",
    "version": 3
   },
   "file_extension": ".py",
   "mimetype": "text/x-python",
   "name": "python",
   "nbconvert_exporter": "python",
   "pygments_lexer": "ipython3",
   "version": "3.12.4"
  }
 },
 "nbformat": 4,
 "nbformat_minor": 2
}
